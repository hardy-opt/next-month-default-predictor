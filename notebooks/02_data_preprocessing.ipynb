{
 "cells": [
  {
   "cell_type": "code",
   "execution_count": 1,
   "id": "3ae36249",
   "metadata": {
    "vscode": {
     "languageId": "plaintext"
    }
   },
   "outputs": [],
   "source": [
    "# Data cleaning\n",
    "import pandas as pd\n",
    "from sklearn.preprocessing import StandardScaler\n",
    "from sklearn.model_selection import train_test_split\n",
    "\n",
    "df = pd.read_csv('../data/raw/default_of_credit_card_clients.csv')\n",
    "\n",
    "sys.path.append('../src/')\n",
    "\n",
    "#df['EDUCATION'].replace({0:1,1:1,2:2,3:3,4:4,5:1,6:1}, inplace=True)\n",
    "#df['MARRIAGE'].replace({0:1,1:1,2:2,3:3}, inplace=True)\n",
    "\n",
    "df['EDUCATION'] = df['EDUCATION'].replace({0:1,1:1,2:2,3:3,4:4,5:1,6:1})\n",
    "df['MARRIAGE'] = df['MARRIAGE'].replace({0:1,1:1,2:2,3:3})\n",
    "\n",
    "\n",
    "# Feature scaling\n",
    "from sklearn.preprocessing import StandardScaler\n",
    "X = df.drop('default.payment.next.month', axis=1)\n",
    "y = df['default.payment.next.month']\n",
    "scaler = StandardScaler()\n",
    "X = scaler.fit_transform(X)\n",
    "\n",
    "# Train-test split\n",
    "X_train, X_test, y_train, y_test = train_test_split(X, y, test_size=0.20, random_state=42)\n",
    "\n",
    "# SMOTE oversampling\n",
    "from imblearn.over_sampling import SMOTE\n",
    "SMOTE = SMOTE()\n",
    "X_train, y_train = SMOTE.fit_resample(X_train, y_train)"
   ]
  },
  {
   "cell_type": "code",
   "execution_count": null,
   "id": "e2e10c19-68d6-4569-b62e-09b4b3532d2f",
   "metadata": {},
   "outputs": [],
   "source": []
  },
  {
   "cell_type": "code",
   "execution_count": null,
   "id": "a132fa90-daf9-494d-b881-89f7ef4f34fb",
   "metadata": {},
   "outputs": [],
   "source": []
  },
  {
   "cell_type": "code",
   "execution_count": null,
   "id": "48a54437-ff6e-42c6-9e5e-b97241d487cd",
   "metadata": {},
   "outputs": [],
   "source": []
  },
  {
   "cell_type": "code",
   "execution_count": null,
   "id": "a3ce0d3e-d0c0-4616-9929-6f7034df6f62",
   "metadata": {},
   "outputs": [],
   "source": []
  }
 ],
 "metadata": {
  "kernelspec": {
   "display_name": "Python 3 (ipykernel)",
   "language": "python",
   "name": "python3"
  },
  "language_info": {
   "codemirror_mode": {
    "name": "ipython",
    "version": 3
   },
   "file_extension": ".py",
   "mimetype": "text/x-python",
   "name": "python",
   "nbconvert_exporter": "python",
   "pygments_lexer": "ipython3",
   "version": "3.12.2"
  }
 },
 "nbformat": 4,
 "nbformat_minor": 5
}
